{
 "cells": [
  {
   "cell_type": "markdown",
   "id": "2c3d28b5-8490-4285-83d3-644906671817",
   "metadata": {},
   "source": [
    "# 06 - Model Comparison\n",
    "\n",
    "Goal:\n",
    "- Combine evaluation metrics from ARIMA and Prophet models\n",
    "- Compare across granularities (daily, weekly, monthly)\n",
    "- Visualize RMSE/MAE results\n",
    "- Identify the best model for forecasting\n"
   ]
  },
  {
   "cell_type": "code",
   "execution_count": 3,
   "id": "be59975a-ef52-45b4-8a03-e195477a415e",
   "metadata": {},
   "outputs": [
    {
     "data": {
      "text/html": [
       "<div>\n",
       "<style scoped>\n",
       "    .dataframe tbody tr th:only-of-type {\n",
       "        vertical-align: middle;\n",
       "    }\n",
       "\n",
       "    .dataframe tbody tr th {\n",
       "        vertical-align: top;\n",
       "    }\n",
       "\n",
       "    .dataframe thead th {\n",
       "        text-align: right;\n",
       "    }\n",
       "</style>\n",
       "<table border=\"1\" class=\"dataframe\">\n",
       "  <thead>\n",
       "    <tr style=\"text-align: right;\">\n",
       "      <th></th>\n",
       "      <th>Model</th>\n",
       "      <th>order</th>\n",
       "      <th>RMSE</th>\n",
       "      <th>MAE</th>\n",
       "      <th>SourceFile</th>\n",
       "    </tr>\n",
       "  </thead>\n",
       "  <tbody>\n",
       "    <tr>\n",
       "      <th>0</th>\n",
       "      <td>ARIMA</td>\n",
       "      <td>(1, 2, 3)</td>\n",
       "      <td>8766.937168</td>\n",
       "      <td>6814.866530</td>\n",
       "      <td>arima_metrics.csv</td>\n",
       "    </tr>\n",
       "    <tr>\n",
       "      <th>1</th>\n",
       "      <td>Prophet (weekly)</td>\n",
       "      <td>NaN</td>\n",
       "      <td>6501.685911</td>\n",
       "      <td>5286.507160</td>\n",
       "      <td>prophet_weekly_metrics.csv</td>\n",
       "    </tr>\n",
       "    <tr>\n",
       "      <th>2</th>\n",
       "      <td>Prophet (daily)</td>\n",
       "      <td>NaN</td>\n",
       "      <td>2904.041781</td>\n",
       "      <td>2095.196368</td>\n",
       "      <td>prophet_daily_metrics.csv</td>\n",
       "    </tr>\n",
       "    <tr>\n",
       "      <th>3</th>\n",
       "      <td>Prophet (monthly)</td>\n",
       "      <td>NaN</td>\n",
       "      <td>16279.836113</td>\n",
       "      <td>12597.907619</td>\n",
       "      <td>prophet_monthly_metrics.csv</td>\n",
       "    </tr>\n",
       "  </tbody>\n",
       "</table>\n",
       "</div>"
      ],
      "text/plain": [
       "               Model      order          RMSE           MAE  \\\n",
       "0              ARIMA  (1, 2, 3)   8766.937168   6814.866530   \n",
       "1   Prophet (weekly)        NaN   6501.685911   5286.507160   \n",
       "2    Prophet (daily)        NaN   2904.041781   2095.196368   \n",
       "3  Prophet (monthly)        NaN  16279.836113  12597.907619   \n",
       "\n",
       "                    SourceFile  \n",
       "0            arima_metrics.csv  \n",
       "1   prophet_weekly_metrics.csv  \n",
       "2    prophet_daily_metrics.csv  \n",
       "3  prophet_monthly_metrics.csv  "
      ]
     },
     "execution_count": 3,
     "metadata": {},
     "output_type": "execute_result"
    }
   ],
   "source": [
    "import pandas as pd\n",
    "import matplotlib.pyplot as plt\n",
    "import os\n",
    "\n",
    "# Paths\n",
    "METRICS_DIR = \"../outputs/metrics\"\n",
    "\n",
    "# Load available metrics\n",
    "metrics_files = [\n",
    "    \"arima_metrics.csv\",            # ARIMA weekly\n",
    "    \"prophet_weekly_metrics.csv\",   # Prophet weekly\n",
    "    \"prophet_daily_metrics.csv\",    # Prophet daily\n",
    "    \"prophet_monthly_metrics.csv\"   # Prophet monthly\n",
    "]\n",
    "\n",
    "dfs = []\n",
    "for f in metrics_files:\n",
    "    path = os.path.join(METRICS_DIR, f)\n",
    "    if os.path.exists(path):\n",
    "        df = pd.read_csv(path)\n",
    "        df[\"SourceFile\"] = f\n",
    "        dfs.append(df)\n",
    "\n",
    "all_metrics = pd.concat(dfs, ignore_index=True)\n",
    "all_metrics\n"
   ]
  },
  {
   "cell_type": "code",
   "execution_count": 5,
   "id": "9c6d893a-7f3a-4406-8c2c-e739d23a9a95",
   "metadata": {},
   "outputs": [
    {
     "data": {
      "text/html": [
       "<div>\n",
       "<style scoped>\n",
       "    .dataframe tbody tr th:only-of-type {\n",
       "        vertical-align: middle;\n",
       "    }\n",
       "\n",
       "    .dataframe tbody tr th {\n",
       "        vertical-align: top;\n",
       "    }\n",
       "\n",
       "    .dataframe thead th {\n",
       "        text-align: right;\n",
       "    }\n",
       "</style>\n",
       "<table border=\"1\" class=\"dataframe\">\n",
       "  <thead>\n",
       "    <tr style=\"text-align: right;\">\n",
       "      <th></th>\n",
       "      <th>Model_Name</th>\n",
       "      <th>RMSE</th>\n",
       "      <th>MAE</th>\n",
       "      <th>SourceFile</th>\n",
       "    </tr>\n",
       "  </thead>\n",
       "  <tbody>\n",
       "    <tr>\n",
       "      <th>0</th>\n",
       "      <td>ARIMA</td>\n",
       "      <td>8766.94</td>\n",
       "      <td>6814.87</td>\n",
       "      <td>arima_metrics.csv</td>\n",
       "    </tr>\n",
       "    <tr>\n",
       "      <th>1</th>\n",
       "      <td>Prophet (weekly)</td>\n",
       "      <td>6501.69</td>\n",
       "      <td>5286.51</td>\n",
       "      <td>prophet_weekly_metrics.csv</td>\n",
       "    </tr>\n",
       "    <tr>\n",
       "      <th>2</th>\n",
       "      <td>Prophet (daily)</td>\n",
       "      <td>2904.04</td>\n",
       "      <td>2095.20</td>\n",
       "      <td>prophet_daily_metrics.csv</td>\n",
       "    </tr>\n",
       "    <tr>\n",
       "      <th>3</th>\n",
       "      <td>Prophet (monthly)</td>\n",
       "      <td>16279.84</td>\n",
       "      <td>12597.91</td>\n",
       "      <td>prophet_monthly_metrics.csv</td>\n",
       "    </tr>\n",
       "  </tbody>\n",
       "</table>\n",
       "</div>"
      ],
      "text/plain": [
       "          Model_Name      RMSE       MAE                   SourceFile\n",
       "0              ARIMA   8766.94   6814.87            arima_metrics.csv\n",
       "1   Prophet (weekly)   6501.69   5286.51   prophet_weekly_metrics.csv\n",
       "2    Prophet (daily)   2904.04   2095.20    prophet_daily_metrics.csv\n",
       "3  Prophet (monthly)  16279.84  12597.91  prophet_monthly_metrics.csv"
      ]
     },
     "metadata": {},
     "output_type": "display_data"
    },
    {
     "name": "stdout",
     "output_type": "stream",
     "text": [
      "Saved combined metrics to all_models_comparison.csv\n"
     ]
    }
   ],
   "source": [
    "# Rename columns for clarity\n",
    "if \"order\" in all_metrics.columns:\n",
    "    all_metrics = all_metrics.drop(columns=[\"order\"], errors=\"ignore\")\n",
    "\n",
    "all_metrics = all_metrics.rename(columns={\"Model\":\"Model_Name\"})\n",
    "\n",
    "# Round metrics\n",
    "all_metrics[\"RMSE\"] = all_metrics[\"RMSE\"].round(2)\n",
    "all_metrics[\"MAE\"] = all_metrics[\"MAE\"].round(2)\n",
    "\n",
    "display(all_metrics)\n",
    "\n",
    "# Save combined table\n",
    "all_metrics.to_csv(os.path.join(METRICS_DIR, \"all_models_comparison.csv\"), index=False)\n",
    "print(\"Saved combined metrics to all_models_comparison.csv\")\n"
   ]
  },
  {
   "cell_type": "code",
   "execution_count": 12,
   "id": "792e9727-12b6-40a9-a019-4afaab4e453e",
   "metadata": {},
   "outputs": [
    {
     "data": {
      "image/png": "[encoded data removed]",
      "text/plain": [
       "<Figure size 1000x500 with 1 Axes>"
      ]
     },
     "metadata": {},
     "output_type": "display_data"
    },
    {
     "data": {
      "image/png": "[encoded data removed]",
      "text/plain": [
       "<Figure size 1000x500 with 1 Axes>"
      ]
     },
     "metadata": {},
     "output_type": "display_data"
    }
   ],
   "source": [
    "# RMSE plot\n",
    "plt.figure(figsize=(10,5))\n",
    "plt.bar(all_metrics[\"Model_Name\"], all_metrics[\"RMSE\"], color=\"skyblue\")\n",
    "plt.xticks(rotation=30, ha=\"right\")\n",
    "plt.ylabel(\"RMSE\")\n",
    "plt.title(\"Model Comparison by RMSE\")\n",
    "plt.tight_layout()\n",
    "plt.savefig(\"../outputs/figures/model_comparison_rmse.png\")   # ✅ save\n",
    "plt.show()\n",
    "\n",
    "# MAE plot\n",
    "plt.figure(figsize=(10,5))\n",
    "plt.bar(all_metrics[\"Model_Name\"], all_metrics[\"MAE\"], color=\"orange\")\n",
    "plt.xticks(rotation=30, ha=\"right\")\n",
    "plt.ylabel(\"MAE\")\n",
    "plt.title(\"Model Comparison by MAE\")\n",
    "plt.tight_layout()\n",
    "plt.savefig(\"../outputs/figures/model_comparison_mae.png\")   # ✅ save\n",
    "plt.show()\n"
   ]
  },
  {
   "cell_type": "code",
   "execution_count": 9,
   "id": "9fd30062-058e-4332-a488-4c0037149f35",
   "metadata": {},
   "outputs": [
    {
     "name": "stdout",
     "output_type": "stream",
     "text": [
      "Best model by RMSE:\n"
     ]
    },
    {
     "data": {
      "text/plain": [
       "Model_Name              Prophet (daily)\n",
       "RMSE                            2904.04\n",
       "MAE                              2095.2\n",
       "SourceFile    prophet_daily_metrics.csv\n",
       "Name: 2, dtype: object"
      ]
     },
     "metadata": {},
     "output_type": "display_data"
    },
    {
     "name": "stdout",
     "output_type": "stream",
     "text": [
      "Best model by MAE:\n"
     ]
    },
    {
     "data": {
      "text/plain": [
       "Model_Name              Prophet (daily)\n",
       "RMSE                            2904.04\n",
       "MAE                              2095.2\n",
       "SourceFile    prophet_daily_metrics.csv\n",
       "Name: 2, dtype: object"
      ]
     },
     "metadata": {},
     "output_type": "display_data"
    }
   ],
   "source": [
    "best_rmse = all_metrics.loc[all_metrics[\"RMSE\"].idxmin()]\n",
    "best_mae = all_metrics.loc[all_metrics[\"MAE\"].idxmin()]\n",
    "\n",
    "print(\"Best model by RMSE:\")\n",
    "display(best_rmse)\n",
    "print(\"Best model by MAE:\")\n",
    "display(best_mae)\n"
   ]
  },
  {
   "cell_type": "markdown",
   "id": "dc0bd56e-22cb-472c-8dfe-6033d7ea8119",
   "metadata": {},
   "source": [
    "# Model Comparison Results\n",
    "\n",
    "## Combined Results\n",
    "- **ARIMA (weekly)** → RMSE ≈ 8767, MAE ≈ 6815  \n",
    "- **Prophet (weekly)** → RMSE ≈ 6502, MAE ≈ 5287  \n",
    "- **Prophet (daily)** → RMSE ≈ 2904, MAE ≈ 2095 ✅ Best model  \n",
    "- **Prophet (monthly)** → RMSE ≈ 16280, MAE ≈ 12598  \n",
    "\n",
    "## Best Model\n",
    "- **By RMSE:** Prophet (daily) = 2904  \n",
    "- **By MAE:** Prophet (daily) = 2095  \n",
    "\n",
    "## Insights\n",
    "- **Prophet (daily)** outperforms all other models by a large margin.  \n",
    "  - Handles short-term cycles (weekday/weekend) + yearly holiday effects well.  \n",
    "  - Best suited for **tactical forecasting** (day-to-day demand).  \n",
    "- **Prophet (weekly)** is the next best choice.  \n",
    "  - Smoother than daily, captures yearly seasonality.  \n",
    "  - Ideal for **operational planning** (inventory, logistics).  \n",
    "- **ARIMA (weekly)** is weaker than Prophet (weekly) → Prophet handles retail sales better.  \n",
    "- **Prophet (monthly)** performs worst.  \n",
    "  - Too coarse → loses important seasonality signals.  \n",
    "  - Only useful for showing long-term growth trend.\n",
    "\n",
    "## Recommendation\n",
    "- Use **Prophet (daily)** as the baseline model for forecasting.  \n",
    "- Use **Prophet (weekly)** for business planning when daily detail is unnecessary.  \n",
    "- Avoid monthly for forecasting — use only for visualization.  \n",
    "- Consider adding **holiday effects** (Diwali, Christmas, Black Friday, etc.) to Prophet to improve peak forecasts.\n"
   ]
  }
 ],
 "metadata": {
  "kernelspec": {
   "display_name": "Python [conda env:retail-forecast]",
   "language": "python",
   "name": "conda-env-retail-forecast-py"
  },
  "language_info": {
   "codemirror_mode": {
    "name": "ipython",
    "version": 3
   },
   "file_extension": ".py",
   "mimetype": "text/x-python",
   "name": "python",
   "nbconvert_exporter": "python",
   "pygments_lexer": "ipython3",
   "version": "3.10.18"
  }
 },
 "nbformat": 4,
 "nbformat_minor": 5
}
